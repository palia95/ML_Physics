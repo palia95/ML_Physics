{
  "nbformat": 4,
  "nbformat_minor": 0,
  "metadata": {
    "colab": {
      "name": "PyBootParma.ipynb",
      "provenance": [],
      "collapsed_sections": [],
      "authorship_tag": "ABX9TyMGPlWu6xTU6+4sJmWQJdwq",
      "include_colab_link": true
    },
    "kernelspec": {
      "name": "python3",
      "display_name": "Python 3"
    }
  },
  "cells": [
    {
      "cell_type": "markdown",
      "metadata": {
        "id": "view-in-github",
        "colab_type": "text"
      },
      "source": [
        "<a href=\"https://colab.research.google.com/github/palia95/ML_Physics/blob/master/PyBootParma.ipynb\" target=\"_parent\"><img src=\"https://colab.research.google.com/assets/colab-badge.svg\" alt=\"Open In Colab\"/></a>"
      ]
    },
    {
      "cell_type": "code",
      "metadata": {
        "colab": {
          "base_uri": "https://localhost:8080/"
        },
        "id": "COeEH6FndC3d",
        "outputId": "9eec52cf-cacd-4f4d-d864-e0a288105ae0"
      },
      "source": [
        "print(\"Hello Word\")"
      ],
      "execution_count": 1,
      "outputs": [
        {
          "output_type": "stream",
          "text": [
            "Hello Word\n"
          ],
          "name": "stdout"
        }
      ]
    },
    {
      "cell_type": "code",
      "metadata": {
        "id": "ddO0eh9Ueg-g"
      },
      "source": [
        "from __future__ import print_function, division"
      ],
      "execution_count": 3,
      "outputs": []
    },
    {
      "cell_type": "code",
      "metadata": {
        "id": "UBfyLYv_f5Ru"
      },
      "source": [
        "stringVariable = \"hello\""
      ],
      "execution_count": 17,
      "outputs": []
    },
    {
      "cell_type": "code",
      "metadata": {
        "colab": {
          "base_uri": "https://localhost:8080/"
        },
        "id": "PC0du9PPgCu5",
        "outputId": "32850a14-6870-4750-986b-815bdeb4658d"
      },
      "source": [
        "print(stringVariable)"
      ],
      "execution_count": 6,
      "outputs": [
        {
          "output_type": "stream",
          "text": [
            "hello\n"
          ],
          "name": "stdout"
        }
      ]
    },
    {
      "cell_type": "code",
      "metadata": {
        "colab": {
          "base_uri": "https://localhost:8080/"
        },
        "id": "8SrFxoHxhJdN",
        "outputId": "5bca4eb4-b265-405e-d148-4d58513793c1"
      },
      "source": [
        "type(stringVariable)"
      ],
      "execution_count": 7,
      "outputs": [
        {
          "output_type": "execute_result",
          "data": {
            "text/plain": [
              "str"
            ]
          },
          "metadata": {
            "tags": []
          },
          "execution_count": 7
        }
      ]
    },
    {
      "cell_type": "code",
      "metadata": {
        "id": "UOewi80RhN_L"
      },
      "source": [
        "floatVariable = 3.5"
      ],
      "execution_count": 8,
      "outputs": []
    },
    {
      "cell_type": "code",
      "metadata": {
        "colab": {
          "base_uri": "https://localhost:8080/"
        },
        "id": "n0s4N99VhRZm",
        "outputId": "d4367f14-d350-41b4-a07c-64fb150d2a97"
      },
      "source": [
        "type(floatVariable)"
      ],
      "execution_count": 9,
      "outputs": [
        {
          "output_type": "execute_result",
          "data": {
            "text/plain": [
              "float"
            ]
          },
          "metadata": {
            "tags": []
          },
          "execution_count": 9
        }
      ]
    },
    {
      "cell_type": "code",
      "metadata": {
        "colab": {
          "base_uri": "https://localhost:8080/"
        },
        "id": "Oter4mmbhzec",
        "outputId": "ec0a79e5-9d12-4118-ec53-5db61375675b"
      },
      "source": [
        "if type(floatVariable) == float:\n",
        "  print (\"true\")"
      ],
      "execution_count": 10,
      "outputs": [
        {
          "output_type": "stream",
          "text": [
            "true\n"
          ],
          "name": "stdout"
        }
      ]
    },
    {
      "cell_type": "code",
      "metadata": {
        "colab": {
          "base_uri": "https://localhost:8080/"
        },
        "id": "zo0ewczGi_OP",
        "outputId": "76d59ca5-6edf-4e23-da50-22ffe2ddbfa0"
      },
      "source": [
        "if 0:\n",
        "  print (\"no\")\n",
        "else:\n",
        "  print (\"yes\")"
      ],
      "execution_count": 11,
      "outputs": [
        {
          "output_type": "stream",
          "text": [
            "yes\n"
          ],
          "name": "stdout"
        }
      ]
    },
    {
      "cell_type": "code",
      "metadata": {
        "colab": {
          "base_uri": "https://localhost:8080/"
        },
        "id": "gs2YgJYzj7Lx",
        "outputId": "47e1a7e6-3dc9-45f2-c993-cd159752001d"
      },
      "source": [
        "for a in range(10):\n",
        "  a = a+1\n",
        "  print (a)"
      ],
      "execution_count": 13,
      "outputs": [
        {
          "output_type": "stream",
          "text": [
            "1\n",
            "2\n",
            "3\n",
            "4\n",
            "5\n",
            "6\n",
            "7\n",
            "8\n",
            "9\n",
            "10\n"
          ],
          "name": "stdout"
        }
      ]
    },
    {
      "cell_type": "code",
      "metadata": {
        "id": "-eZi2YynVxNg"
      },
      "source": [
        "# test "
      ],
      "execution_count": 1,
      "outputs": []
    },
    {
      "cell_type": "code",
      "metadata": {
        "id": "bh12r1eNW7HV"
      },
      "source": [
        "# hello"
      ],
      "execution_count": 2,
      "outputs": []
    },
    {
      "cell_type": "markdown",
      "metadata": {
        "id": "fFviPkmcW70l"
      },
      "source": [
        "# hello\n",
        "## hello\n",
        "### hello"
      ]
    },
    {
      "cell_type": "code",
      "metadata": {
        "colab": {
          "base_uri": "https://localhost:8080/"
        },
        "id": "T3JM0wYIZWSA",
        "outputId": "359c3a55-f175-4a34-9b8d-a0b70e19bcca"
      },
      "source": [
        "amax = 10\n",
        "\n",
        "for a in range(amax):\n",
        "  a = a+1\n",
        "  print(a)"
      ],
      "execution_count": 3,
      "outputs": [
        {
          "output_type": "stream",
          "text": [
            "1\n",
            "2\n",
            "3\n",
            "4\n",
            "5\n",
            "6\n",
            "7\n",
            "8\n",
            "9\n",
            "10\n"
          ],
          "name": "stdout"
        }
      ]
    },
    {
      "cell_type": "markdown",
      "metadata": {
        "id": "c3J1biEHaQ1k"
      },
      "source": [
        "# Variable containers"
      ]
    },
    {
      "cell_type": "code",
      "metadata": {
        "colab": {
          "base_uri": "https://localhost:8080/"
        },
        "id": "X9xN04jfaT56",
        "outputId": "58ede418-b762-4faf-e88f-f59005c8fec1"
      },
      "source": [
        "myList = [0, 1, 3, \"hello\", 3.4]\n",
        "myList"
      ],
      "execution_count": 5,
      "outputs": [
        {
          "output_type": "execute_result",
          "data": {
            "text/plain": [
              "[0, 1, 3, 'hello', 3.4]"
            ]
          },
          "metadata": {
            "tags": []
          },
          "execution_count": 5
        }
      ]
    },
    {
      "cell_type": "code",
      "metadata": {
        "colab": {
          "base_uri": "https://localhost:8080/"
        },
        "id": "dgk-p7Txa8tU",
        "outputId": "0dd957c0-453e-4360-ad41-fa99dddd891d"
      },
      "source": [
        "myList[-1]"
      ],
      "execution_count": 6,
      "outputs": [
        {
          "output_type": "execute_result",
          "data": {
            "text/plain": [
              "3.4"
            ]
          },
          "metadata": {
            "tags": []
          },
          "execution_count": 6
        }
      ]
    },
    {
      "cell_type": "code",
      "metadata": {
        "colab": {
          "base_uri": "https://localhost:8080/"
        },
        "id": "i13fVbZsbfLL",
        "outputId": "4f1fd086-be29-480e-fdf3-75cd960840f5"
      },
      "source": [
        "myList + myList"
      ],
      "execution_count": 7,
      "outputs": [
        {
          "output_type": "execute_result",
          "data": {
            "text/plain": [
              "[0, 1, 3, 'hello', 3.4, 0, 1, 3, 'hello', 3.4]"
            ]
          },
          "metadata": {
            "tags": []
          },
          "execution_count": 7
        }
      ]
    },
    {
      "cell_type": "code",
      "metadata": {
        "colab": {
          "base_uri": "https://localhost:8080/"
        },
        "id": "lglZpVVEdHHc",
        "outputId": "1eb41e68-981a-4d16-e241-72a08a2eb39c"
      },
      "source": [
        "tmplist = []\n",
        "a = 0\n",
        "while a**2 < 300:\n",
        "  a = a+1\n",
        "  tmplist.append(a**2)\n",
        "tmplist"
      ],
      "execution_count": 8,
      "outputs": [
        {
          "output_type": "execute_result",
          "data": {
            "text/plain": [
              "[1, 4, 9, 16, 25, 36, 49, 64, 81, 100, 121, 144, 169, 196, 225, 256, 289, 324]"
            ]
          },
          "metadata": {
            "tags": []
          },
          "execution_count": 8
        }
      ]
    },
    {
      "cell_type": "markdown",
      "metadata": {
        "id": "vtLbsV_ndgKv"
      },
      "source": [
        "# list are usefull but ineffective, dict are better"
      ]
    },
    {
      "cell_type": "code",
      "metadata": {
        "id": "4PLEIyIWdd8O"
      },
      "source": [
        "dictVariable = {\"keyInt\": 0, \"keyFloat\": 0.3, \"keyString\": \"I'm a string\", \"keyDict\": {}}"
      ],
      "execution_count": 10,
      "outputs": []
    },
    {
      "cell_type": "code",
      "metadata": {
        "id": "s4TDhW_bdnXb"
      },
      "source": [
        "dictVariable[\"keyList\"].append(1)"
      ],
      "execution_count": 14,
      "outputs": []
    },
    {
      "cell_type": "code",
      "metadata": {
        "colab": {
          "base_uri": "https://localhost:8080/"
        },
        "id": "Tdk5rbrgelke",
        "outputId": "f8146481-c5b9-446d-850a-2991bbd79a1a"
      },
      "source": [
        "dictVariable"
      ],
      "execution_count": 15,
      "outputs": [
        {
          "output_type": "execute_result",
          "data": {
            "text/plain": [
              "{'keyDict': {},\n",
              " 'keyFloat': 0.3,\n",
              " 'keyInt': 0,\n",
              " 'keyList': [0, 1],\n",
              " 'keyString': \"I'm a string\"}"
            ]
          },
          "metadata": {
            "tags": []
          },
          "execution_count": 15
        }
      ]
    },
    {
      "cell_type": "code",
      "metadata": {
        "colab": {
          "base_uri": "https://localhost:8080/",
          "height": 35
        },
        "id": "vni8Fq19gNJc",
        "outputId": "4d167539-4acd-4d76-8942-c951e6214890"
      },
      "source": [
        "stringVariable.replace(\"'\",\"\")"
      ],
      "execution_count": 18,
      "outputs": [
        {
          "output_type": "execute_result",
          "data": {
            "application/vnd.google.colaboratory.intrinsic+json": {
              "type": "string"
            },
            "text/plain": [
              "'hello'"
            ]
          },
          "metadata": {
            "tags": []
          },
          "execution_count": 18
        }
      ]
    },
    {
      "cell_type": "code",
      "metadata": {
        "id": "I8vbCwK1ih8v"
      },
      "source": [
        ""
      ],
      "execution_count": null,
      "outputs": []
    },
    {
      "cell_type": "code",
      "metadata": {
        "id": "EDhOSgRpih-T"
      },
      "source": [
        "import numpy as np\n"
      ],
      "execution_count": 19,
      "outputs": []
    },
    {
      "cell_type": "code",
      "metadata": {
        "colab": {
          "base_uri": "https://localhost:8080/",
          "height": 282
        },
        "id": "19X7RJSPjFVi",
        "outputId": "99a35944-3704-48a5-fe36-9b9522066fdd"
      },
      "source": [
        "from matplotlib import pylab as plt\n",
        "\n",
        "plt.plot(range(10), np.zeros(10))"
      ],
      "execution_count": 21,
      "outputs": [
        {
          "output_type": "execute_result",
          "data": {
            "text/plain": [
              "[<matplotlib.lines.Line2D at 0x7fd68aecb8d0>]"
            ]
          },
          "metadata": {
            "tags": []
          },
          "execution_count": 21
        },
        {
          "output_type": "display_data",
          "data": {
            "image/png": "[encoded data removed]",
            "text/plain": [
              "<Figure size 432x288 with 1 Axes>"
            ]
          },
          "metadata": {
            "tags": [],
            "needs_background": "light"
          }
        }
      ]
    },
    {
      "cell_type": "markdown",
      "metadata": {
        "id": "D7t-H6ObkpF9"
      },
      "source": [
        "# never import something as *"
      ]
    },
    {
      "cell_type": "code",
      "metadata": {
        "colab": {
          "base_uri": "https://localhost:8080/"
        },
        "id": "I3tkdTOfkto1",
        "outputId": "979b38fe-fb33-4886-ee64-f8977461bcfb"
      },
      "source": [
        "np.uint8(-3) #used for images and neural neutworks (also use float)"
      ],
      "execution_count": 23,
      "outputs": [
        {
          "output_type": "execute_result",
          "data": {
            "text/plain": [
              "253"
            ]
          },
          "metadata": {
            "tags": []
          },
          "execution_count": 23
        }
      ]
    },
    {
      "cell_type": "code",
      "metadata": {
        "colab": {
          "base_uri": "https://localhost:8080/"
        },
        "id": "XG0sLDxdlNV8",
        "outputId": "7b6d505e-2c50-438f-e93f-791c6296dd1b"
      },
      "source": [
        "npuint8 = np.uint8(255)\n",
        "npuint8.dtype\n",
        "\n",
        "#np.empty(50) #not use it\n",
        "tmparray = np.zeros(50, int)\n",
        "tmparray[:10]"
      ],
      "execution_count": 30,
      "outputs": [
        {
          "output_type": "execute_result",
          "data": {
            "text/plain": [
              "array([0, 0, 0, 0, 0, 0, 0, 0, 0, 0])"
            ]
          },
          "metadata": {
            "tags": []
          },
          "execution_count": 30
        }
      ]
    },
    {
      "cell_type": "code",
      "metadata": {
        "colab": {
          "base_uri": "https://localhost:8080/"
        },
        "id": "ULjHaPoena0K",
        "outputId": "52893c0d-7be1-43c1-a31e-ebc768ac4e2c"
      },
      "source": [
        "zeroarray = np.zeros(7, int)\n",
        "onesarray = np.ones(7, float)\n",
        "\n",
        "zeroarray + onesarray\n",
        "zeroarray * onesarray"
      ],
      "execution_count": 32,
      "outputs": [
        {
          "output_type": "execute_result",
          "data": {
            "text/plain": [
              "array([0., 0., 0., 0., 0., 0., 0.])"
            ]
          },
          "metadata": {
            "tags": []
          },
          "execution_count": 32
        }
      ]
    },
    {
      "cell_type": "code",
      "metadata": {
        "colab": {
          "base_uri": "https://localhost:8080/"
        },
        "id": "PyOCOQRdoIKr",
        "outputId": "ad565601-9ecd-4e2b-ea58-0161202b9f97"
      },
      "source": [
        "list(range(10))"
      ],
      "execution_count": 33,
      "outputs": [
        {
          "output_type": "execute_result",
          "data": {
            "text/plain": [
              "[0, 1, 2, 3, 4, 5, 6, 7, 8, 9]"
            ]
          },
          "metadata": {
            "tags": []
          },
          "execution_count": 33
        }
      ]
    },
    {
      "cell_type": "code",
      "metadata": {
        "colab": {
          "base_uri": "https://localhost:8080/"
        },
        "id": "poFzoaO5oNzK",
        "outputId": "d43900c7-52fc-47b5-866a-a2194be5ee11"
      },
      "source": [
        "np.arange(5, 10., 2)"
      ],
      "execution_count": 34,
      "outputs": [
        {
          "output_type": "execute_result",
          "data": {
            "text/plain": [
              "array([5., 7., 9.])"
            ]
          },
          "metadata": {
            "tags": []
          },
          "execution_count": 34
        }
      ]
    },
    {
      "cell_type": "code",
      "metadata": {
        "colab": {
          "base_uri": "https://localhost:8080/"
        },
        "id": "Ynicb0xSoiDD",
        "outputId": "f31a787e-e118-460e-81d6-ae573da2560a"
      },
      "source": [
        "np.random.rand(10)"
      ],
      "execution_count": 35,
      "outputs": [
        {
          "output_type": "execute_result",
          "data": {
            "text/plain": [
              "array([0.60834815, 0.14376973, 0.79754184, 0.02936884, 0.65866598,\n",
              "       0.83390931, 0.27353861, 0.49262554, 0.85926303, 0.49034109])"
            ]
          },
          "metadata": {
            "tags": []
          },
          "execution_count": 35
        }
      ]
    },
    {
      "cell_type": "code",
      "metadata": {
        "colab": {
          "base_uri": "https://localhost:8080/"
        },
        "id": "TJcKmTgXpO4e",
        "outputId": "21e4dc47-0f59-495a-aa21-a158b69be3fe"
      },
      "source": [
        "one1Darray = np.random.rand(10)\n",
        "two2Darray = np.random.rand(10, 20)\n",
        "one1Darray[1:3]\n",
        "two2Darray[1:3, 0]"
      ],
      "execution_count": 41,
      "outputs": [
        {
          "output_type": "execute_result",
          "data": {
            "text/plain": [
              "array([0.59055868, 0.70098319])"
            ]
          },
          "metadata": {
            "tags": []
          },
          "execution_count": 41
        }
      ]
    },
    {
      "cell_type": "code",
      "metadata": {
        "id": "6gDxD2nVp9tf"
      },
      "source": [
        "def myFunc(a):\n",
        "  print(\"This is a function with var \", a)\n",
        "  return 1"
      ],
      "execution_count": 42,
      "outputs": []
    },
    {
      "cell_type": "code",
      "metadata": {
        "colab": {
          "base_uri": "https://localhost:8080/"
        },
        "id": "ND5IYW6gqOA7",
        "outputId": "7714965a-e926-4d84-d17f-a9241a347d44"
      },
      "source": [
        "myFunc(\"hello\")"
      ],
      "execution_count": 43,
      "outputs": [
        {
          "output_type": "stream",
          "text": [
            "This is a function with var  hello\n"
          ],
          "name": "stdout"
        },
        {
          "output_type": "execute_result",
          "data": {
            "text/plain": [
              "1"
            ]
          },
          "metadata": {
            "tags": []
          },
          "execution_count": 43
        }
      ]
    },
    {
      "cell_type": "markdown",
      "metadata": {
        "id": "ZiLOJY5Qqekr"
      },
      "source": [
        "# take a string that identifies if a word is palindorm (if yes, print it is but also print the unique subset of the string)\n"
      ]
    },
    {
      "cell_type": "code",
      "metadata": {
        "id": "-KbE05Dlq8P6"
      },
      "source": [
        "def PalindromTest(word):\n",
        "  print(\"The input word is \", word)\n",
        "  word = word.lower()\n",
        "  word = word.replace(\",\",\"\")\n",
        "  word = word.replace(\" \",\"\")\n",
        "  wordRev = word[::-1]\n",
        "  print(wordRev)\n",
        "  tmplistdirect = list(word)\n",
        "  tmplistreverse = list(wordRev)\n",
        "  subset = []\n",
        "  for i in range(len(tmplistdirect)):\n",
        "    if (tmplistdirect[i]==tmplistreverse[i]):\n",
        "      subset.append(tmplistdirect[i])\n",
        "\n",
        "  if len(subset)>0:\n",
        "    print(\"This is palindrom! The subset is \", subset)\n",
        "  else:\n",
        "    print(\"This is not palindorm!\")\n",
        "    "
      ],
      "execution_count": 76,
      "outputs": []
    },
    {
      "cell_type": "code",
      "metadata": {
        "colab": {
          "base_uri": "https://localhost:8080/"
        },
        "id": "DiMjMugXrgzE",
        "outputId": "c2a5280a-1540-433d-f284-d875b17810f0"
      },
      "source": [
        "PalindromTest(\"A Milano, non a Lima\")"
      ],
      "execution_count": 77,
      "outputs": [
        {
          "output_type": "stream",
          "text": [
            "The input word is  A Milano, non a Lima\n",
            "amilanononalima\n",
            "This is palindrom! The subset is  ['a', 'm', 'i', 'l', 'a', 'n', 'o', 'n', 'o', 'n', 'a', 'l', 'i', 'm', 'a']\n"
          ],
          "name": "stdout"
        }
      ]
    },
    {
      "cell_type": "code",
      "metadata": {
        "colab": {
          "base_uri": "https://localhost:8080/"
        },
        "id": "0JWv65i3vqFB",
        "outputId": "1265aa5d-58ac-48a0-b124-ded90d6f612d"
      },
      "source": [
        "from google.colab import drive\n",
        "drive.mount(\"/content/drive\")"
      ],
      "execution_count": 82,
      "outputs": [
        {
          "output_type": "stream",
          "text": [
            "Mounted at /content/drive\n"
          ],
          "name": "stdout"
        }
      ]
    },
    {
      "cell_type": "code",
      "metadata": {
        "colab": {
          "base_uri": "https://localhost:8080/"
        },
        "id": "VNzFC5rYwrNB",
        "outputId": "937cee1b-11ca-4ffc-82bc-8e3b5193c82b"
      },
      "source": [
        "%ls"
      ],
      "execution_count": 99,
      "outputs": [
        {
          "output_type": "stream",
          "text": [
            " Address.gdoc\n",
            " Backup.gdoc\n",
            " Bilancio.gsheet\n",
            " Bluetooth.gdoc\n",
            "'Bozza PhD Proposal - Pagliari.gdoc'\n",
            " busBusses.npy\n",
            " Clarity.gsheet\n",
            " \u001b[0m\u001b[01;34mClassroom\u001b[0m/\n",
            "\u001b[01;34m'Colab Notebooks'\u001b[0m/\n",
            "'Compleanno Chiara.gdoc'\n",
            " Comsol.gsheet\n",
            " Copenaghen-Malmö.gdoc\n",
            "'Copia di LASER.gslides'\n",
            " Corfù.gsheet\n",
            "'Cryptominando Data.gsheet'\n",
            " Crypto.zip\n",
            " Documento.pdf\n",
            "'Documento senza titolo (1).gdoc'\n",
            "'Documento senza titolo.gdoc'\n",
            " Drone.gsheet\n",
            "'E-commerce learning.gdoc'\n",
            "'Ethereum & Bitcoin.gdoc'\n",
            "'Festa Laurea.gsheet'\n",
            "'Foglio di lavoro senza nome (1).gsheet'\n",
            "'Foglio di lavoro senza nome (2).gsheet'\n",
            "'Foglio di lavoro senza nome (3).gsheet'\n",
            "'Foglio di lavoro senza nome.gform'\n",
            "'Foglio di lavoro senza nome.gsheet'\n",
            "'FPV drone.gdoc'\n",
            " GizChina-GizBlog-LFFL.gsheet\n",
            "\u001b[01;34m'Google Foto'\u001b[0m/\n",
            "'GPS test.gdoc'\n",
            "'GW Perf.gsheet'\n",
            "'Home WSN System - IoT Project.gdoc'\n",
            " ID.gdoc\n",
            " Inventario.gdoc\n",
            " ispalindrome.py\n",
            " Laser.gdoc\n",
            "'Lettera (1).gdoc'\n",
            "'Lettera (2).gdoc'\n",
            "'Lettera Chiara.gdoc'\n",
            " Lettera.gdoc\n",
            "'Lettera Presentazione.gdoc'\n",
            "'Lista Acquisti.gdoc'\n",
            "'Lista Articoli.gdoc'\n",
            " Luca.gdoc\n",
            "'Mail AM Sa.gdoc'\n",
            "'Milano 2017 2018.gsheet'\n",
            "'MQTT GW.gdoc'\n",
            " MWC.gsheet\n",
            " Nicole.gdoc\n",
            "'Orale Elettronica 1.gdoc'\n",
            " Orari.gsheet\n",
            " Pagliari_Emanuele_Communication_Engineering.gdoc\n",
            " Palestra.gsheet\n",
            " Pappagallo.gdoc\n",
            " Pappagallo.pdf\n",
            " PC-Antonio.gsheet\n",
            "'PC Bench.gsheet'\n",
            " PC.gsheet\n",
            " PC-H725.gsheet\n",
            " Preventivo-H725.gdoc\n",
            "'Progetto FWM.gdoc'\n",
            " prova.gdoc\n",
            " \u001b[01;34m__pycache__\u001b[0m/\n",
            " Recensioni.gdoc\n",
            "'Report IoT.gdoc'\n",
            "'Riparazioni Cellulari.gsheet'\n",
            " Roma.gsheet\n",
            " Router.gsheet\n",
            "'Schede tecniche.gsheet'\n",
            "'SEED IOTA.gdoc'\n",
            " \u001b[01;34mSimutrans\u001b[0m/\n",
            " Sito.gdoc\n",
            "'Spese Copenaghen.gsheet'\n",
            " \u001b[01;34mSuperiori\u001b[0m/\n",
            " Telematica.gdoc\n",
            "'Tesi esposizione.gdoc'\n",
            " Test-LoRaWAN-drone.gsheet\n",
            "'Testo email.gdoc'\n",
            "'Tomorrowland 2020.gdoc'\n",
            "'Turni 2016.gsheet'\n",
            " \u001b[01;34mUniversità\u001b[0m/\n",
            " \u001b[01;34mvarie\u001b[0m/\n"
          ],
          "name": "stdout"
        }
      ]
    },
    {
      "cell_type": "code",
      "metadata": {
        "colab": {
          "base_uri": "https://localhost:8080/"
        },
        "id": "FocAwCiRw7P0",
        "outputId": "d50ab206-7953-4f81-fe56-7c9b66043528"
      },
      "source": [
        "cd drive"
      ],
      "execution_count": 86,
      "outputs": [
        {
          "output_type": "stream",
          "text": [
            "/content/drive\n"
          ],
          "name": "stdout"
        }
      ]
    },
    {
      "cell_type": "code",
      "metadata": {
        "id": "O5MarpKmyNKx"
      },
      "source": [
        "import ispalindrome as pal"
      ],
      "execution_count": 94,
      "outputs": []
    },
    {
      "cell_type": "code",
      "metadata": {
        "colab": {
          "base_uri": "https://localhost:8080/"
        },
        "id": "AzfriSOY0U9k",
        "outputId": "e37e72d1-ad0e-4c5d-afa6-52d4a5bbab70"
      },
      "source": [
        "pal.lookForPal(\"RADAR\")"
      ],
      "execution_count": 95,
      "outputs": [
        {
          "output_type": "stream",
          "text": [
            "Yes its a palindrome RAD\n"
          ],
          "name": "stdout"
        },
        {
          "output_type": "execute_result",
          "data": {
            "text/plain": [
              "1"
            ]
          },
          "metadata": {
            "tags": []
          },
          "execution_count": 95
        }
      ]
    },
    {
      "cell_type": "code",
      "metadata": {
        "colab": {
          "base_uri": "https://localhost:8080/"
        },
        "id": "ll0-HnVX0d_c",
        "outputId": "2480680d-4b43-4fdb-cd98-3d6ca93e2fe8"
      },
      "source": [
        "!curl -O https://raw.githubusercontent.com/fedhere/PyBOOT/master/busBusses.npy"
      ],
      "execution_count": 98,
      "outputs": [
        {
          "output_type": "stream",
          "text": [
            "  % Total    % Received % Xferd  Average Speed   Time    Time     Time  Current\n",
            "                                 Dload  Upload   Total   Spent    Left  Speed\n",
            "\r  0     0    0     0    0     0      0      0 --:--:-- --:--:-- --:--:--     0\r100   240  100   240    0     0   3428      0 --:--:-- --:--:-- --:--:--  3428\n"
          ],
          "name": "stdout"
        }
      ]
    },
    {
      "cell_type": "code",
      "metadata": {
        "colab": {
          "base_uri": "https://localhost:8080/"
        },
        "id": "x_gBLMha1QPD",
        "outputId": "e30fd730-6ff2-4bb8-b729-96748d4df3ed"
      },
      "source": [
        "!curl -O https://raw.githubusercontent.com/fedhere/PyBOOT/master/busTimeTable.npy"
      ],
      "execution_count": 100,
      "outputs": [
        {
          "output_type": "stream",
          "text": [
            "  % Total    % Received % Xferd  Average Speed   Time    Time     Time  Current\n",
            "                                 Dload  Upload   Total   Spent    Left  Speed\n",
            "\r  0     0    0     0    0     0      0      0 --:--:-- --:--:-- --:--:--     0\r100  1680  100  1680    0     0  23013      0 --:--:-- --:--:-- --:--:-- 23013\n"
          ],
          "name": "stdout"
        }
      ]
    },
    {
      "cell_type": "code",
      "metadata": {
        "id": "4puKEyrj1cwC"
      },
      "source": [
        "tt = np.load(\"busTimeTable.npy\")\n",
        "busses = np.load(\"busBusses.npy\")"
      ],
      "execution_count": 102,
      "outputs": []
    },
    {
      "cell_type": "code",
      "metadata": {
        "colab": {
          "base_uri": "https://localhost:8080/"
        },
        "id": "c3NilgBJ1tbw",
        "outputId": "a693907d-72b5-44b1-e83f-c08a86e415df"
      },
      "source": [
        "tt.shape #busses x hours\n",
        "tt"
      ],
      "execution_count": 106,
      "outputs": [
        {
          "output_type": "execute_result",
          "data": {
            "text/plain": [
              "array([[ 91.82869011,  72.99278771,  96.74459251,  73.41298391,\n",
              "         85.58215726, 101.38226456,  96.97680737,  95.56072596,\n",
              "         77.87195303,  78.37553397],\n",
              "       [ 61.03022409,  60.00463334,  67.86228679,  41.10873249,\n",
              "         53.37659575,  36.91790247,  53.62835897,  55.73660035,\n",
              "         58.56814116,  54.98889748],\n",
              "       [ 60.98477297,  45.55742203,  45.88400007,  66.16346096,\n",
              "         60.03163411,  50.85322708,  45.37677315,  53.8142472 ,\n",
              "         54.54569551,  60.64418839],\n",
              "       [ 87.98620643,  55.8021912 ,  81.02751282,  66.19019631,\n",
              "         53.30000683,  67.55780543,  74.38103569,  71.13924744,\n",
              "         87.67477883,  67.09783283],\n",
              "       [ 73.8097995 ,  79.25914025,  86.31085813,  99.77766307,\n",
              "         90.29078454,  84.37561182,  95.84112464,  84.50840611,\n",
              "         97.12166748, 105.17515918],\n",
              "       [ 77.14467806,  71.12444623,  52.12373301,  73.45946947,\n",
              "         91.36942688,  72.86854378,  68.71403738,  72.43112835,\n",
              "         61.79702835,  72.26935691],\n",
              "       [ 86.30704523, 102.23174241, 113.01884237,  95.69827044,\n",
              "         98.59959209, 114.93276158, 104.41133895, 105.50238628,\n",
              "         93.35943062,  98.78277939],\n",
              "       [ 74.71226929,  80.97147937,  89.16214966,  70.2307603 ,\n",
              "         81.4312056 ,  78.3874604 ,  78.96898309,  72.10555491,\n",
              "         55.51923827,  79.02316128],\n",
              "       [ 77.92696605,  92.77956675,  69.3108149 ,  61.53129422,\n",
              "         70.65140894,  76.97932739,  73.41862304,  84.09255185,\n",
              "         63.36670996,  67.99069123],\n",
              "       [ 49.24024409,  67.65617269,  61.19613048,  51.40181978,\n",
              "         44.90729398,  68.52445254,  78.97249561,  52.57678652,\n",
              "         53.74647403,  54.37398039],\n",
              "       [ 59.18999377,  70.37804103,  48.60766952,  81.46181456,\n",
              "         64.85214737,  65.33415395,  58.19399315,  61.38295111,\n",
              "         57.04243639,  59.63865558],\n",
              "       [ 75.12543348, 106.12441583,  85.73822318,  85.38739475,\n",
              "         67.688885  ,  78.10374313,  85.17605977,  80.99901671,\n",
              "         87.65882487,  86.52981761],\n",
              "       [ 63.75814098,  53.37348145,  70.99872588,  77.81639011,\n",
              "         62.0375387 ,  56.34111999,  68.85249945,  55.82441791,\n",
              "         68.08625797,  72.10975084],\n",
              "       [ 15.59478274,  33.19279169,  35.26912395,  30.90715331,\n",
              "         56.00936929,  32.58024267,  46.41792735,  42.82946792,\n",
              "         43.28099373,  49.37757159],\n",
              "       [ 46.16732427,  81.31977757,  75.50469581,  65.69300662,\n",
              "         56.53048576,  56.31828323,  49.76376656,  56.47451759,\n",
              "         65.87847643,  61.13387985],\n",
              "       [ 77.280952  ,  76.29909699,  73.30769388,  96.05834373,\n",
              "         89.29221424,  87.4965901 ,  65.51103779,  85.00879678,\n",
              "         83.01854661,  70.11890182],\n",
              "       [ 60.22412814,  51.24633613,  29.71850033,  47.59939621,\n",
              "         61.07689437,  58.55899776,  40.75295312,  54.98036344,\n",
              "         52.91969315,  44.25847756],\n",
              "       [ 48.79074854,  61.22026506,  60.92437628,  60.83824996,\n",
              "         53.31451393,  53.76179385,  52.20652832,  65.24639906,\n",
              "         18.21655529,  66.6490358 ],\n",
              "       [ 71.92154159,  80.80014634,  67.85942205,  61.04740331,\n",
              "         58.18359773,  66.40353147,  77.43164409,  74.96692462,\n",
              "         69.20014753,  80.85366556],\n",
              "       [ 78.79188234,  89.45851705,  70.64935937,  58.27493978,\n",
              "         68.58490247,  89.96935633,  66.60290963,  65.79740182,\n",
              "         70.80114802,  75.60585109]])"
            ]
          },
          "metadata": {
            "tags": []
          },
          "execution_count": 106
        }
      ]
    },
    {
      "cell_type": "code",
      "metadata": {
        "colab": {
          "base_uri": "https://localhost:8080/"
        },
        "id": "1_3BlP_X4lc1",
        "outputId": "bfca288d-e9b1-4b54-8b50-f36b724ca658"
      },
      "source": [
        "tt.mean(axis=1).shape #collapse to an array of 20 mean values\n"
      ],
      "execution_count": 116,
      "outputs": [
        {
          "output_type": "execute_result",
          "data": {
            "text/plain": [
              "(20,)"
            ]
          },
          "metadata": {
            "tags": []
          },
          "execution_count": 116
        }
      ]
    },
    {
      "cell_type": "code",
      "metadata": {
        "colab": {
          "base_uri": "https://localhost:8080/"
        },
        "id": "_ZSbjkX422jj",
        "outputId": "38cad258-bc75-4517-a395-4b0971fd5f32"
      },
      "source": [
        "hours = np.arange(1,11) #create hours array\n",
        "hours"
      ],
      "execution_count": 117,
      "outputs": [
        {
          "output_type": "execute_result",
          "data": {
            "text/plain": [
              "array([ 1,  2,  3,  4,  5,  6,  7,  8,  9, 10])"
            ]
          },
          "metadata": {
            "tags": []
          },
          "execution_count": 117
        }
      ]
    },
    {
      "cell_type": "code",
      "metadata": {
        "id": "d4a61HHl6GKI"
      },
      "source": [
        "ttmean0 = tt.mean(axis=0)\n",
        "ttmean1 = tt.mean(axis=1)"
      ],
      "execution_count": 121,
      "outputs": []
    },
    {
      "cell_type": "code",
      "metadata": {
        "id": "pO25Q9UH6Ocu"
      },
      "source": [
        "ttmean0 = ttmean0.max()\n",
        "ttmean1 = ttmean1.max()"
      ],
      "execution_count": 125,
      "outputs": []
    },
    {
      "cell_type": "code",
      "metadata": {
        "colab": {
          "base_uri": "https://localhost:8080/"
        },
        "id": "Xb1yeSM-65BZ",
        "outputId": "7807c788-50ca-4ec9-a7de-5ce3bcb6a2c3"
      },
      "source": [
        "hours[ttmean0 == ttmean0.max()]\n",
        "hours"
      ],
      "execution_count": 128,
      "outputs": [
        {
          "output_type": "execute_result",
          "data": {
            "text/plain": [
              "array([ 1,  2,  3,  4,  5,  6,  7,  8,  9, 10])"
            ]
          },
          "metadata": {
            "tags": []
          },
          "execution_count": 128
        }
      ]
    },
    {
      "cell_type": "code",
      "metadata": {
        "colab": {
          "base_uri": "https://localhost:8080/"
        },
        "id": "icx-Kt007Q-z",
        "outputId": "02b33fd0-3bb0-415f-9ed6-6e8e4e34b8bc"
      },
      "source": [
        "busses[ttmean1 == ttmean1.max()]\n",
        "busses"
      ],
      "execution_count": 129,
      "outputs": [
        {
          "output_type": "execute_result",
          "data": {
            "text/plain": [
              "array([ 77,  72,  79,  97,  85,  57,  86,  96,  31,  76,  33,  98, 109,\n",
              "       108,  52,  92,  58,  94,  66, 104])"
            ]
          },
          "metadata": {
            "tags": []
          },
          "execution_count": 129
        }
      ]
    }
  ]
}