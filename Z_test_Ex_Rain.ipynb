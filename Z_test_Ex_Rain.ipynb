{
  "nbformat": 4,
  "nbformat_minor": 0,
  "metadata": {
    "colab": {
      "name": "Z_test_Ex_Rain.ipynb",
      "provenance": [],
      "collapsed_sections": [],
      "authorship_tag": "ABX9TyPzwGr4ZYJpGsSuVEh6Y4z7",
      "include_colab_link": true
    },
    "kernelspec": {
      "name": "python3",
      "display_name": "Python 3"
    },
    "language_info": {
      "name": "python"
    }
  },
  "cells": [
    {
      "cell_type": "markdown",
      "metadata": {
        "id": "view-in-github",
        "colab_type": "text"
      },
      "source": [
        "<a href=\"https://colab.research.google.com/github/palia95/ML_Physics/blob/master/Z_test_Ex_Rain.ipynb\" target=\"_parent\"><img src=\"https://colab.research.google.com/assets/colab-badge.svg\" alt=\"Open In Colab\"/></a>"
      ]
    },
    {
      "cell_type": "code",
      "metadata": {
        "id": "uxRH7oPgidnD"
      },
      "source": [
        "import pandas as pd\n",
        "import numpy as np\n",
        "\n",
        "df = pd.read_csv(\"https://raw.githubusercontent.com/fedhere/DSPS/master/labs/1865331.csv\") #dataframe\n",
        "\n",
        "#Select population and sample\n",
        "sample = df[pd.to_datetime(df.DATE) > pd.to_datetime(\"2018-12-31\")]\n",
        "population = df[pd.to_datetime(df.DATE) <= pd.to_datetime(\"2018-12-31\")]"
      ],
      "execution_count": null,
      "outputs": []
    },
    {
      "cell_type": "code",
      "metadata": {
        "id": "0nVI96uxmYj9"
      },
      "source": [
        "#Define Z test function\n",
        "def Z(population,sample):\n",
        "  return (population.mean() - sample.mean())/(np.std(population)/np.sqrt(len(sample)))"
      ],
      "execution_count": null,
      "outputs": []
    },
    {
      "cell_type": "code",
      "metadata": {
        "colab": {
          "base_uri": "https://localhost:8080/"
        },
        "id": "fjDdAtrqnSD6",
        "outputId": "763e5a63-ea28-4a8d-9971-45b9625a625c"
      },
      "source": [
        "#Perform Test\n",
        "Z(population.PRCP, sample.PRCP)"
      ],
      "execution_count": null,
      "outputs": [
        {
          "output_type": "execute_result",
          "data": {
            "text/plain": [
              "-0.13506940185562044"
            ]
          },
          "metadata": {
            "tags": []
          },
          "execution_count": 26
        }
      ]
    }
  ]
}