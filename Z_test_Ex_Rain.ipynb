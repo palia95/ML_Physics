{
  "nbformat": 4,
  "nbformat_minor": 0,
  "metadata": {
    "colab": {
      "name": "Z_test_Ex_Rain.ipynb",
      "provenance": [],
      "collapsed_sections": [],
      "authorship_tag": "ABX9TyOskv3ear2aoHrOeDMxE0Sd",
      "include_colab_link": true
    },
    "kernelspec": {
      "name": "python3",
      "display_name": "Python 3"
    },
    "language_info": {
      "name": "python"
    }
  },
  "cells": [
    {
      "cell_type": "markdown",
      "metadata": {
        "id": "view-in-github",
        "colab_type": "text"
      },
      "source": [
        "<a href=\"https://colab.research.google.com/github/palia95/ML_Physics/blob/master/Z_test_Ex_Rain.ipynb\" target=\"_parent\"><img src=\"https://colab.research.google.com/assets/colab-badge.svg\" alt=\"Open In Colab\"/></a>"
      ]
    },
    {
      "cell_type": "code",
      "metadata": {
        "id": "uxRH7oPgidnD"
      },
      "source": [
        "#This exercise is about the Z test over a rain sample collected in 2019 and the population on the last 10 years of rain. Z test tells if the mean of a sample is the same of a population, the result is the difference between the STD deviation of the sample and the population\n",
        "\n",
        "import pandas as pd\n",
        "import numpy as np\n",
        "\n",
        "#Read file from CSV\n",
        "df = pd.read_csv(\"https://raw.githubusercontent.com/fedhere/DSPS/master/labs/1865331.csv\") #dataframe\n",
        "\n",
        "#Select population and sample by date\n",
        "sample = df[pd.to_datetime(df.DATE) > pd.to_datetime(\"2018-12-31\")]\n",
        "population = df[pd.to_datetime(df.DATE) <= pd.to_datetime(\"2018-12-31\")]"
      ],
      "execution_count": 1,
      "outputs": []
    },
    {
      "cell_type": "code",
      "metadata": {
        "id": "0nVI96uxmYj9"
      },
      "source": [
        "#Define Z test function\n",
        "def Z(population,sample):\n",
        "  return (sample.mean() - population.mean())/(np.std(sample)/np.sqrt(len(sample)))"
      ],
      "execution_count": 3,
      "outputs": []
    },
    {
      "cell_type": "code",
      "metadata": {
        "colab": {
          "base_uri": "https://localhost:8080/"
        },
        "id": "fjDdAtrqnSD6",
        "outputId": "b5d7d83e-14e1-40cd-d45b-168250044400"
      },
      "source": [
        "#Perform Test\n",
        "Z(population.PRCP, sample.PRCP)"
      ],
      "execution_count": 4,
      "outputs": [
        {
          "output_type": "execute_result",
          "data": {
            "text/plain": [
              "0.16013208387586975"
            ]
          },
          "metadata": {
            "tags": []
          },
          "execution_count": 4
        }
      ]
    }
  ]
}